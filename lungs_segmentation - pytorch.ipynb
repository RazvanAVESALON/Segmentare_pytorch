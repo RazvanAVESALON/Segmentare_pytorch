{
 "cells": [
  {
   "cell_type": "markdown",
   "metadata": {},
   "source": [
    "### De reținut\n",
    "\n",
    "Acest notebook necesită instalarea pachetului torchmetrics: `conda install -c conda-forge torchmetrics`\n",
    "\n",
    "Spre deosebire de tensorflow, pytorch așteaptă input de forma channel first, C x H x W.\n",
    "\n",
    "Clasa CrossEntropyLoss include funcția Softmax, ea nu mai trebuie aplicată ca și ultimul strat pentru o rețea. De asemenea, în timpul validării/testării, funcția Softmax va trebui aplicată manual pentru a converti output-ul raw al rețelei, adică *logits* în probabilități.\n",
    "\n",
    "`torch.set_grad_enabled` activează/dezactivează calcularea gradienților, ceea este util pentru a schimba modul de la antrenare la validare/testare. Se folosește concomitent cu `network.train()` și `network.eval()`"
   ]
  },
  {
   "cell_type": "code",
   "execution_count": 337,
   "metadata": {},
   "outputs": [
    {
     "name": "stdout",
     "output_type": "stream",
     "text": [
      "pyTorch version 1.10.1\n",
      "torchvision version 0.11.2\n",
      "torchmetrics version 0.7.0\n",
      "CUDA available True\n"
     ]
    }
   ],
   "source": [
    "import matplotlib.pyplot as plt\n",
    "import numpy as np\n",
    "import pandas as pd\n",
    "import pathlib as pt\n",
    "import random\n",
    "import yaml\n",
    "import cv2\n",
    "\n",
    "import torch\n",
    "import torch.nn as nn\n",
    "import torch.nn.functional as F\n",
    "import torchvision\n",
    "import torchvision.transforms as T\n",
    "import torchmetrics \n",
    "\n",
    "from tqdm import tqdm\n",
    "from UNetModel import UNet\n",
    "\n",
    "\n",
    "print(f\"pyTorch version {torch.__version__}\")\n",
    "print(f\"torchvision version {torchvision.__version__}\")\n",
    "print(f\"torchmetrics version {torchmetrics.__version__}\")\n",
    "print(f\"CUDA available {torch.cuda.is_available()}\")"
   ]
  },
  {
   "cell_type": "code",
   "execution_count": 338,
   "metadata": {},
   "outputs": [],
   "source": [
    "config = None\n",
    "with open('config.yaml') as f: # reads .yml/.yaml files\n",
    "    config = yaml.safe_load(f)"
   ]
  },
  {
   "cell_type": "markdown",
   "metadata": {},
   "source": [
    "## Creare dataset"
   ]
  },
  {
   "cell_type": "code",
   "execution_count": 339,
   "metadata": {},
   "outputs": [],
   "source": [
    "def create_dataset_csv(images_dir, right_masks_dir, left_masks_dir, csv_path):\n",
    "    \"\"\"Generare csv cu caile catre imaginile de input si mastile de segmentare\n",
    "\n",
    "    Args:\n",
    "        images_dir (str or pathlib.Path): calea catre directorul cu imagini de input\n",
    "        right_masks_dir (str or pathlib.Path): calea catre directorul cu masti de segmentare pt plamanul drept\n",
    "        left_masks_dir (str or pathlib.Path): calea catre directorul cu masti de segmentare pt plamanul stang\n",
    "        csv_path (str or pathlib.Path): calea si numele fisierul csv care va fi salvat\n",
    "\n",
    "    Returns:\n",
    "        pandas.DataFrame: contine caile catre fiecare imagine de input sau masca de segmentare\n",
    "    \"\"\"\n",
    "\n",
    "    # se citesc toate caile catre imagini si masti de segmentare\n",
    "    # este important sa fie in aceeasi ordine\n",
    "    images = sorted(list(pt.Path(images_dir).rglob(\"*.png\")))\n",
    "    right_masks = sorted(list(pt.Path(right_masks_dir).rglob(\"*.png\")))\n",
    "    left_masks = sorted(list(pt.Path(left_masks_dir).rglob(\"*.png\")))\n",
    "\n",
    "    # se verifica daca nu exista masti lipsa pentru unul dintre plamani\n",
    "    assert len(right_masks) == len(left_masks), \\\n",
    "         f\"nr. of right lung masks {len(right_masks)} != {len(left_masks)} nr. of left lung masks\"\n",
    "    \n",
    "    # se verifica daca nu exista imagini sau masti lipsa\n",
    "    assert len(images) == len(left_masks), \\\n",
    "         f\"nr. of image{len(images)} != {len(left_masks)} nr. of masks\"\n",
    "\n",
    "    # se creaza un dictionar de liste, pe baza caruia se creaza obiectul de tip pandas.DataFrame\n",
    "    dataset_data = {\"image_path\": images, \"right_lung_mask_path\": right_masks, \"left_lung_mask_path\": left_masks}\n",
    "\n",
    "    dataset_df = pd.DataFrame(data=dataset_data)\n",
    "    dataset_df.to_csv(csv_path, index=False)\n",
    "    print(f\"Saved dataset csv {csv_path}\")\n",
    "\n",
    "    return dataset_df\n",
    "\n",
    "def split_dataset(dataset_df, split_per, seed=1):\n",
    "    \"\"\"Impartirea setului de date in antrenare, validare si testare in mod aleatoriu\n",
    "\n",
    "    Args:\n",
    "        dataset_df (pandas.DataFrame): contine caile catre imaginile de input si mastile de segmentare\n",
    "        split_per (dict): un dictionare de forma {\"train\": float, \"valid\": float, \"test\": float} ce descrie\n",
    "            procentajele pentru fiecare subset\n",
    "        seed (int, optional): valoarea seed pentru reproducerea impartirii setului de date. Defaults to 1.\n",
    "    \"\"\"\n",
    "    # se amesteca aleatoriu indecsii DataFrame-ului\n",
    "    # indexul este un numar (de cele mai multe ori) asociat fiecarui rand\n",
    "    indices = dataset_df.index.to_numpy() \n",
    "    total = len(indices)\n",
    "    random.seed(seed)\n",
    "    random.shuffle(indices)\n",
    "\n",
    "    # se impart indecsii in functie de procentele primite ca input\n",
    "    train_idx = int(total * split_per[\"train\"])\n",
    "    valid_idx = train_idx + int(total * split_per[\"valid\"])\n",
    "    test_idx = train_idx + valid_idx + int(total * split_per[\"test\"])\n",
    "\n",
    "    train_indices = indices[:train_idx]\n",
    "    valid_indices = indices[train_idx:valid_idx]\n",
    "    test_indices = indices[valid_idx:test_idx]\n",
    "\n",
    "#     print(len(train_indices), len(valid_indices), len(test_indices))\n",
    "\n",
    "    # se adauga o noua coloana la DataFrame care specifica in ce subset face parte o imagine si mastile de segmentare asociate\n",
    "    dataset_df['subset'] = \"\"\n",
    "    dataset_df.loc[train_indices, \"subset\"] = \"train\"\n",
    "    dataset_df.loc[valid_indices, \"subset\"] = \"valid\"\n",
    "    dataset_df.loc[test_indices, \"subset\"] = \"test\"\n",
    "\n",
    "    return dataset_df"
   ]
  },
  {
   "cell_type": "code",
   "execution_count": 340,
   "metadata": {},
   "outputs": [
    {
     "name": "stdout",
     "output_type": "stream",
     "text": [
      "Saved dataset csv dataset_seg.csv\n"
     ]
    }
   ],
   "source": [
    "dataset_df = create_dataset_csv(config[\"data\"][\"images_dir\"], \n",
    "                                config[\"data\"][\"right_masks_dir\"],\n",
    "                                config[\"data\"][\"left_masks_dir\"],\n",
    "                                config[\"data\"][\"data_csv\"])"
   ]
  },
  {
   "cell_type": "code",
   "execution_count": 341,
   "metadata": {},
   "outputs": [
    {
     "data": {
      "text/html": [
       "<div>\n",
       "<style scoped>\n",
       "    .dataframe tbody tr th:only-of-type {\n",
       "        vertical-align: middle;\n",
       "    }\n",
       "\n",
       "    .dataframe tbody tr th {\n",
       "        vertical-align: top;\n",
       "    }\n",
       "\n",
       "    .dataframe thead th {\n",
       "        text-align: right;\n",
       "    }\n",
       "</style>\n",
       "<table border=\"1\" class=\"dataframe\">\n",
       "  <thead>\n",
       "    <tr style=\"text-align: right;\">\n",
       "      <th></th>\n",
       "      <th>image_path</th>\n",
       "      <th>right_lung_mask_path</th>\n",
       "      <th>left_lung_mask_path</th>\n",
       "      <th>subset</th>\n",
       "    </tr>\n",
       "  </thead>\n",
       "  <tbody>\n",
       "    <tr>\n",
       "      <th>0</th>\n",
       "      <td>D:\\ai intro\\AI intro\\7. Retele Complet Convolu...</td>\n",
       "      <td>D:\\ai intro\\AI intro\\7. Retele Complet Convolu...</td>\n",
       "      <td>D:\\ai intro\\AI intro\\7. Retele Complet Convolu...</td>\n",
       "      <td>valid</td>\n",
       "    </tr>\n",
       "    <tr>\n",
       "      <th>1</th>\n",
       "      <td>D:\\ai intro\\AI intro\\7. Retele Complet Convolu...</td>\n",
       "      <td>D:\\ai intro\\AI intro\\7. Retele Complet Convolu...</td>\n",
       "      <td>D:\\ai intro\\AI intro\\7. Retele Complet Convolu...</td>\n",
       "      <td>train</td>\n",
       "    </tr>\n",
       "    <tr>\n",
       "      <th>2</th>\n",
       "      <td>D:\\ai intro\\AI intro\\7. Retele Complet Convolu...</td>\n",
       "      <td>D:\\ai intro\\AI intro\\7. Retele Complet Convolu...</td>\n",
       "      <td>D:\\ai intro\\AI intro\\7. Retele Complet Convolu...</td>\n",
       "      <td>train</td>\n",
       "    </tr>\n",
       "  </tbody>\n",
       "</table>\n",
       "</div>"
      ],
      "text/plain": [
       "                                          image_path  \\\n",
       "0  D:\\ai intro\\AI intro\\7. Retele Complet Convolu...   \n",
       "1  D:\\ai intro\\AI intro\\7. Retele Complet Convolu...   \n",
       "2  D:\\ai intro\\AI intro\\7. Retele Complet Convolu...   \n",
       "\n",
       "                                right_lung_mask_path  \\\n",
       "0  D:\\ai intro\\AI intro\\7. Retele Complet Convolu...   \n",
       "1  D:\\ai intro\\AI intro\\7. Retele Complet Convolu...   \n",
       "2  D:\\ai intro\\AI intro\\7. Retele Complet Convolu...   \n",
       "\n",
       "                                 left_lung_mask_path subset  \n",
       "0  D:\\ai intro\\AI intro\\7. Retele Complet Convolu...  valid  \n",
       "1  D:\\ai intro\\AI intro\\7. Retele Complet Convolu...  train  \n",
       "2  D:\\ai intro\\AI intro\\7. Retele Complet Convolu...  train  "
      ]
     },
     "execution_count": 341,
     "metadata": {},
     "output_type": "execute_result"
    }
   ],
   "source": [
    "dataset_df = split_dataset(dataset_df, split_per=config['data']['split_per'], seed=1)\n",
    "dataset_df.head(3)"
   ]
  },
  {
   "cell_type": "code",
   "execution_count": 342,
   "metadata": {},
   "outputs": [],
   "source": [
    "class LungSegDataset(torch.utils.data.Dataset):\n",
    "    \"\"\"Un Dataset custom pentru setul de date pentru segmentare plamanilor\"\"\"\n",
    "\n",
    "    def __init__(self, dataset_df, img_size):\n",
    "        self.dataset_df = dataset_df.reset_index(drop=True)\n",
    "        self.img_size = tuple(img_size)\n",
    "\n",
    "    def __len__(self):\n",
    "        \"\"\"\n",
    "        Returns:\n",
    "            int: Returneaza numarul total de samples\n",
    "        \"\"\"\n",
    "        return len(self.dataset_df) \n",
    "\n",
    "    def __combine_masks(self, img_right, img_left):\n",
    "        \"\"\"Combina mastile pentru cei doi plamani intr-o singura masca\n",
    "\n",
    "        Args:\n",
    "            img_right (pillow.Image): masca pentru plamanul drept\n",
    "            img_left (pillow.Image): masca pentru plamanul stang\n",
    "\n",
    "        Returns:\n",
    "            numpy.array: masca cu cei doi plamani\n",
    "        \"\"\"\n",
    "\n",
    "        img_right = np.array(img_right, dtype=\"uint8\") * 1/255\n",
    "        img_left = np.array(img_left, dtype=\"uint8\") * 1/255\n",
    "\n",
    "        img = (img_right + img_left).astype(\"uint8\")\n",
    "\n",
    "        return img\n",
    "\n",
    "\n",
    "    def __getitem__(self, idx):\n",
    "        \"\"\"Returneaza un tuple (input, target) care corespunde cu batch #idx.\n",
    "\n",
    "        Args:\n",
    "            idx (int): indexul batch-ului curent\n",
    "\n",
    "        Returns:\n",
    "           tuple:  (input, target) care corespunde cu batch #idx\n",
    "        \"\"\"\n",
    "\n",
    "        row = self.dataset_df.iloc[idx, :]\n",
    "\n",
    "        img = cv2.imread(str(row['image_path']), cv2.IMREAD_GRAYSCALE)\n",
    "        img = cv2.resize(img, self.img_size)\n",
    "\n",
    "        # adaugam o noua dimensiune pe prima pozitie\n",
    "        # o retea in pytorch asteapta input de forma C x H x W\n",
    "        x = np.expand_dims(img, axis=0)\n",
    "\n",
    "        mask_right = cv2.imread(str(row['right_lung_mask_path']), cv2.IMREAD_GRAYSCALE)\n",
    "        mask_right = cv2.resize(mask_right, self.img_size)\n",
    "        mask_left = cv2.imread(str(row['left_lung_mask_path']), cv2.IMREAD_GRAYSCALE)\n",
    "        mask_left = cv2.resize(mask_left, self.img_size)\n",
    "\n",
    "        mask = self.__combine_masks(mask_right, mask_left)\n",
    "\n",
    "        y = np.expand_dims(mask, axis=0)\n",
    "        \n",
    "        return torch.as_tensor(x.copy()).float(), torch.as_tensor(y.copy()).long()"
   ]
  },
  {
   "cell_type": "markdown",
   "metadata": {},
   "source": [
    "### Vizualizare exemple date folosind Dataset-ul custom"
   ]
  },
  {
   "cell_type": "code",
   "execution_count": 343,
   "metadata": {},
   "outputs": [
    {
     "name": "stdout",
     "output_type": "stream",
     "text": [
      "torch.Size([1, 128, 128]) torch.Size([1, 128, 128])\n"
     ]
    }
   ],
   "source": [
    "data_ds = LungSegDataset(dataset_df, img_size=config[\"data\"][\"img_size\"])\n",
    "x, y = data_ds[0]\n",
    "print(x.shape, y.shape)"
   ]
  },
  {
   "cell_type": "code",
   "execution_count": 344,
   "metadata": {},
   "outputs": [
    {
     "data": {
      "text/plain": [
       "<matplotlib.image.AxesImage at 0x1af69fa5e20>"
      ]
     },
     "execution_count": 344,
     "metadata": {},
     "output_type": "execute_result"
    },
    {
     "data": {
      "image/png": "[encoded data removed]",
      "text/plain": [
       "<Figure size 432x288 with 2 Axes>"
      ]
     },
     "metadata": {
      "needs_background": "light"
     },
     "output_type": "display_data"
    }
   ],
   "source": [
    "f, axs = plt.subplots(1, 2)\n",
    "axs[0].axis('off')\n",
    "axs[0].set_title(\"Input\")\n",
    "axs[0].imshow(x[0].numpy(), cmap=\"gray\")\n",
    "\n",
    "axs[1].axis('off')\n",
    "axs[1].set_title(\"Mask\")\n",
    "axs[1].imshow(y[0].numpy(), cmap=\"gray\")"
   ]
  },
  {
   "cell_type": "markdown",
   "metadata": {},
   "source": [
    "## Creare model de tip U-Net"
   ]
  },
  {
   "cell_type": "code",
   "execution_count": 345,
   "metadata": {},
   "outputs": [
    {
     "name": "stdout",
     "output_type": "stream",
     "text": [
      "UNet(\n",
      "  (inc): DoubleConv(\n",
      "    (double_conv): Sequential(\n",
      "      (0): Conv2d(1, 64, kernel_size=(3, 3), stride=(1, 1), padding=(1, 1), bias=False)\n",
      "      (1): BatchNorm2d(64, eps=1e-05, momentum=0.1, affine=True, track_running_stats=True)\n",
      "      (2): ReLU(inplace=True)\n",
      "      (3): Conv2d(64, 64, kernel_size=(3, 3), stride=(1, 1), padding=(1, 1), bias=False)\n",
      "      (4): BatchNorm2d(64, eps=1e-05, momentum=0.1, affine=True, track_running_stats=True)\n",
      "      (5): ReLU(inplace=True)\n",
      "    )\n",
      "  )\n",
      "  (down1): Down(\n",
      "    (maxpool_conv): Sequential(\n",
      "      (0): MaxPool2d(kernel_size=2, stride=2, padding=0, dilation=1, ceil_mode=False)\n",
      "      (1): DoubleConv(\n",
      "        (double_conv): Sequential(\n",
      "          (0): Conv2d(64, 128, kernel_size=(3, 3), stride=(1, 1), padding=(1, 1), bias=False)\n",
      "          (1): BatchNorm2d(128, eps=1e-05, momentum=0.1, affine=True, track_running_stats=True)\n",
      "          (2): ReLU(inplace=True)\n",
      "          (3): Conv2d(128, 128, kernel_size=(3, 3), stride=(1, 1), padding=(1, 1), bias=False)\n",
      "          (4): BatchNorm2d(128, eps=1e-05, momentum=0.1, affine=True, track_running_stats=True)\n",
      "          (5): ReLU(inplace=True)\n",
      "        )\n",
      "      )\n",
      "    )\n",
      "  )\n",
      "  (down2): Down(\n",
      "    (maxpool_conv): Sequential(\n",
      "      (0): MaxPool2d(kernel_size=2, stride=2, padding=0, dilation=1, ceil_mode=False)\n",
      "      (1): DoubleConv(\n",
      "        (double_conv): Sequential(\n",
      "          (0): Conv2d(128, 256, kernel_size=(3, 3), stride=(1, 1), padding=(1, 1), bias=False)\n",
      "          (1): BatchNorm2d(256, eps=1e-05, momentum=0.1, affine=True, track_running_stats=True)\n",
      "          (2): ReLU(inplace=True)\n",
      "          (3): Conv2d(256, 256, kernel_size=(3, 3), stride=(1, 1), padding=(1, 1), bias=False)\n",
      "          (4): BatchNorm2d(256, eps=1e-05, momentum=0.1, affine=True, track_running_stats=True)\n",
      "          (5): ReLU(inplace=True)\n",
      "        )\n",
      "      )\n",
      "    )\n",
      "  )\n",
      "  (down3): Down(\n",
      "    (maxpool_conv): Sequential(\n",
      "      (0): MaxPool2d(kernel_size=2, stride=2, padding=0, dilation=1, ceil_mode=False)\n",
      "      (1): DoubleConv(\n",
      "        (double_conv): Sequential(\n",
      "          (0): Conv2d(256, 512, kernel_size=(3, 3), stride=(1, 1), padding=(1, 1), bias=False)\n",
      "          (1): BatchNorm2d(512, eps=1e-05, momentum=0.1, affine=True, track_running_stats=True)\n",
      "          (2): ReLU(inplace=True)\n",
      "          (3): Conv2d(512, 512, kernel_size=(3, 3), stride=(1, 1), padding=(1, 1), bias=False)\n",
      "          (4): BatchNorm2d(512, eps=1e-05, momentum=0.1, affine=True, track_running_stats=True)\n",
      "          (5): ReLU(inplace=True)\n",
      "        )\n",
      "      )\n",
      "    )\n",
      "  )\n",
      "  (down4): Down(\n",
      "    (maxpool_conv): Sequential(\n",
      "      (0): MaxPool2d(kernel_size=2, stride=2, padding=0, dilation=1, ceil_mode=False)\n",
      "      (1): DoubleConv(\n",
      "        (double_conv): Sequential(\n",
      "          (0): Conv2d(512, 512, kernel_size=(3, 3), stride=(1, 1), padding=(1, 1), bias=False)\n",
      "          (1): BatchNorm2d(512, eps=1e-05, momentum=0.1, affine=True, track_running_stats=True)\n",
      "          (2): ReLU(inplace=True)\n",
      "          (3): Conv2d(512, 512, kernel_size=(3, 3), stride=(1, 1), padding=(1, 1), bias=False)\n",
      "          (4): BatchNorm2d(512, eps=1e-05, momentum=0.1, affine=True, track_running_stats=True)\n",
      "          (5): ReLU(inplace=True)\n",
      "        )\n",
      "      )\n",
      "    )\n",
      "  )\n",
      "  (up1): Up(\n",
      "    (up): Upsample(scale_factor=2.0, mode=bilinear)\n",
      "    (conv): DoubleConv(\n",
      "      (double_conv): Sequential(\n",
      "        (0): Conv2d(1024, 512, kernel_size=(3, 3), stride=(1, 1), padding=(1, 1), bias=False)\n",
      "        (1): BatchNorm2d(512, eps=1e-05, momentum=0.1, affine=True, track_running_stats=True)\n",
      "        (2): ReLU(inplace=True)\n",
      "        (3): Conv2d(512, 256, kernel_size=(3, 3), stride=(1, 1), padding=(1, 1), bias=False)\n",
      "        (4): BatchNorm2d(256, eps=1e-05, momentum=0.1, affine=True, track_running_stats=True)\n",
      "        (5): ReLU(inplace=True)\n",
      "      )\n",
      "    )\n",
      "  )\n",
      "  (up2): Up(\n",
      "    (up): Upsample(scale_factor=2.0, mode=bilinear)\n",
      "    (conv): DoubleConv(\n",
      "      (double_conv): Sequential(\n",
      "        (0): Conv2d(512, 256, kernel_size=(3, 3), stride=(1, 1), padding=(1, 1), bias=False)\n",
      "        (1): BatchNorm2d(256, eps=1e-05, momentum=0.1, affine=True, track_running_stats=True)\n",
      "        (2): ReLU(inplace=True)\n",
      "        (3): Conv2d(256, 128, kernel_size=(3, 3), stride=(1, 1), padding=(1, 1), bias=False)\n",
      "        (4): BatchNorm2d(128, eps=1e-05, momentum=0.1, affine=True, track_running_stats=True)\n",
      "        (5): ReLU(inplace=True)\n",
      "      )\n",
      "    )\n",
      "  )\n",
      "  (up3): Up(\n",
      "    (up): Upsample(scale_factor=2.0, mode=bilinear)\n",
      "    (conv): DoubleConv(\n",
      "      (double_conv): Sequential(\n",
      "        (0): Conv2d(256, 128, kernel_size=(3, 3), stride=(1, 1), padding=(1, 1), bias=False)\n",
      "        (1): BatchNorm2d(128, eps=1e-05, momentum=0.1, affine=True, track_running_stats=True)\n",
      "        (2): ReLU(inplace=True)\n",
      "        (3): Conv2d(128, 64, kernel_size=(3, 3), stride=(1, 1), padding=(1, 1), bias=False)\n",
      "        (4): BatchNorm2d(64, eps=1e-05, momentum=0.1, affine=True, track_running_stats=True)\n",
      "        (5): ReLU(inplace=True)\n",
      "      )\n",
      "    )\n",
      "  )\n",
      "  (up4): Up(\n",
      "    (up): Upsample(scale_factor=2.0, mode=bilinear)\n",
      "    (conv): DoubleConv(\n",
      "      (double_conv): Sequential(\n",
      "        (0): Conv2d(128, 64, kernel_size=(3, 3), stride=(1, 1), padding=(1, 1), bias=False)\n",
      "        (1): BatchNorm2d(64, eps=1e-05, momentum=0.1, affine=True, track_running_stats=True)\n",
      "        (2): ReLU(inplace=True)\n",
      "        (3): Conv2d(64, 64, kernel_size=(3, 3), stride=(1, 1), padding=(1, 1), bias=False)\n",
      "        (4): BatchNorm2d(64, eps=1e-05, momentum=0.1, affine=True, track_running_stats=True)\n",
      "        (5): ReLU(inplace=True)\n",
      "      )\n",
      "    )\n",
      "  )\n",
      "  (outc): OutConv(\n",
      "    (conv): Conv2d(64, 2, kernel_size=(1, 1), stride=(1, 1))\n",
      "  )\n",
      ")\n"
     ]
    }
   ],
   "source": [
    "# In timpul antrenarii nu avem nevoie de functie de activare la final deoarece CrossEntropyLoss include functia Softmax\n",
    "network = UNet(n_channels=1, n_classes=2)\n",
    "print(network)"
   ]
  },
  {
   "cell_type": "markdown",
   "metadata": {},
   "source": [
    "Se creaza generatoarele pentru antrenare si validare pornind de la DataFrame-ul creat anterior. Se filtreaza dupa coloana `subset`."
   ]
  },
  {
   "cell_type": "code",
   "execution_count": 346,
   "metadata": {},
   "outputs": [
    {
     "name": "stdout",
     "output_type": "stream",
     "text": [
      "# Train: 110 # Valid: 13\n"
     ]
    }
   ],
   "source": [
    "train_df = dataset_df.loc[dataset_df[\"subset\"] == \"train\", :]\n",
    "train_ds = LungSegDataset(train_df, img_size=config[\"data\"][\"img_size\"])\n",
    "train_loader = torch.utils.data.DataLoader(train_ds, batch_size=config['train']['bs'], shuffle=True)\n",
    "\n",
    "valid_df = dataset_df.loc[dataset_df[\"subset\"] == \"valid\", :]\n",
    "valid_ds = LungSegDataset(valid_df, img_size=config[\"data\"][\"img_size\"])\n",
    "valid_loader = torch.utils.data.DataLoader(valid_ds, batch_size=config['train']['bs'], shuffle=False)\n",
    "\n",
    "print(f\"# Train: {len(train_ds)} # Valid: {len(valid_ds)}\")"
   ]
  },
  {
   "cell_type": "markdown",
   "metadata": {},
   "source": [
    "## Antrenare model de segmentare"
   ]
  },
  {
   "cell_type": "code",
   "execution_count": 347,
   "metadata": {},
   "outputs": [],
   "source": [
    "def train(network, train_loader, valid_loader, criterion, opt, epochs, thresh=0.5):\n",
    "    total_loss = {'train': [], 'valid': []}\n",
    "    total_acc = {'train': [], 'valid': []}\n",
    "\n",
    "    device = torch.device(\"cuda:0\" if torch.cuda.is_available() else \"cpu\")\n",
    "    print(f\"[INFO] Starting training on device {device} ...\")\n",
    "\n",
    "    loaders = {\n",
    "        'train': train_loader,\n",
    "        'valid': valid_loader\n",
    "    }\n",
    "    metric = torchmetrics.Accuracy()\n",
    "    \n",
    "    network.to(device)\n",
    "    criterion.to(device)\n",
    "\n",
    "    for ep in range(epochs):\n",
    "        print(f\"[INFO] Epoch {ep}/{epochs - 1}\")\n",
    "        print(\"-\" * 20)        \n",
    "        for phase in ['train', 'valid']:\n",
    "            running_loss = 0.0\n",
    "\n",
    "            if phase == 'train':\n",
    "                network.train()  # Set model to training mode\n",
    "            else:\n",
    "                network.eval()   # Set model to evaluate mode\n",
    "\n",
    "            with tqdm(desc=phase, unit=' batch', total=len(loaders[phase].dataset)) as pbar:\n",
    "                for data in loaders[phase]:\n",
    "                    ins, tgs = data\n",
    "                    ins = ins.to(device)\n",
    "                    tgs = tgs.to(device)\n",
    "                    \n",
    "                    # seteaza toti gradientii la zero, deoarece PyTorch acumuleaza valorile lor dupa mai multe backward passes\n",
    "                    opt.zero_grad()\n",
    "\n",
    "                    with torch.set_grad_enabled(phase == 'train'):\n",
    "                        # se face forward propagation -> se calculeaza predictia\n",
    "                        output = network(ins)\n",
    "\n",
    "                        # se calculeaza eroarea/loss-ul\n",
    "                        loss = criterion(output, tgs.squeeze())\n",
    "                        \n",
    "                        # deoarece reteaua nu include un strat de softmax, predictia finala trebuie calculata manual\n",
    "                        current_predict = (F.softmax(output, dim=1)[:, 1] > thresh).float()\n",
    "\n",
    "                        if 'cuda' in device.type:\n",
    "                            current_predict = current_predict.cpu()\n",
    "                            current_target = tgs.cpu().type(torch.int).squeeze()\n",
    "                        else:\n",
    "                            current_predict = current_predict\n",
    "                            current_target = tgs.type(torch.int).squeeze()\n",
    "\n",
    "                        # print(current_predict.shape, current_target.shape)\n",
    "                        # print(current_predict.dtype, current_target.dtype)\n",
    "                        acc = metric(current_predict, current_target)\n",
    "                        # print(f\"\\tAcc on batch {i}: {acc}\")\n",
    "\n",
    "                        if phase == 'train':\n",
    "                            # se face backpropagation -> se calculeaza gradientii\n",
    "                            loss.backward()\n",
    "                            # se actualizează weights-urile\n",
    "                            opt.step()\n",
    "                    \n",
    "                    running_loss += loss.item() * ins.size(0)\n",
    "                    # print(running_loss, loss.item())\n",
    "\n",
    "                    if phase == 'valid':\n",
    "                        # salvam ponderile modelului dupa fiecare epoca\n",
    "                        torch.save(network, 'my_model.pth')\n",
    "                    \n",
    "                    pbar.update(ins.shape[0])\n",
    "\n",
    "\n",
    "                # Calculam loss-ul pt toate batch-urile dintr-o epoca\n",
    "                total_loss[phase].append(running_loss/len(loaders[phase].dataset))\n",
    "                \n",
    "                # Calculam acuratetea pt toate batch-urile dintr-o epoca\n",
    "                acc = metric.compute()\n",
    "                total_acc[phase].append(acc)\n",
    "\n",
    "                postfix = f'error {total_loss[phase][-1]:.4f} accuracy {acc*100:.2f}%'\n",
    "                pbar.set_postfix_str(postfix)\n",
    "\n",
    "                # Resetam pt a acumula valorile dintr-o noua epoca\n",
    "                metric.reset()\n",
    "    \n",
    "    return {'loss': total_loss, 'acc': total_acc}"
   ]
  },
  {
   "cell_type": "code",
   "execution_count": 348,
   "metadata": {},
   "outputs": [
    {
     "name": "stdout",
     "output_type": "stream",
     "text": [
      "[INFO] Starting training on device cuda:0 ...\n",
      "[INFO] Epoch 0/9\n",
      "--------------------\n"
     ]
    },
    {
     "name": "stderr",
     "output_type": "stream",
     "text": [
      "train: 100%|██████████| 110/110 [00:30<00:00,  3.62 batch/s, error 0.2740 accuracy 92.73%]\n",
      "valid: 100%|██████████| 13/13 [00:03<00:00,  3.48 batch/s, error 0.5341 accuracy 75.54%]\n"
     ]
    },
    {
     "name": "stdout",
     "output_type": "stream",
     "text": [
      "[INFO] Epoch 1/9\n",
      "--------------------\n"
     ]
    },
    {
     "name": "stderr",
     "output_type": "stream",
     "text": [
      "train: 100%|██████████| 110/110 [00:29<00:00,  3.67 batch/s, error 0.1358 accuracy 97.05%]\n",
      "valid: 100%|██████████| 13/13 [00:06<00:00,  1.88 batch/s, error 0.2270 accuracy 95.88%]\n"
     ]
    },
    {
     "name": "stdout",
     "output_type": "stream",
     "text": [
      "[INFO] Epoch 2/9\n",
      "--------------------\n"
     ]
    },
    {
     "name": "stderr",
     "output_type": "stream",
     "text": [
      "train: 100%|██████████| 110/110 [00:30<00:00,  3.65 batch/s, error 0.1071 accuracy 97.81%]\n",
      "valid: 100%|██████████| 13/13 [00:03<00:00,  3.58 batch/s, error 0.1210 accuracy 97.74%]\n"
     ]
    },
    {
     "name": "stdout",
     "output_type": "stream",
     "text": [
      "[INFO] Epoch 3/9\n",
      "--------------------\n"
     ]
    },
    {
     "name": "stderr",
     "output_type": "stream",
     "text": [
      "train: 100%|██████████| 110/110 [00:29<00:00,  3.68 batch/s, error 0.0930 accuracy 98.22%]\n",
      "valid: 100%|██████████| 13/13 [00:03<00:00,  3.59 batch/s, error 0.1017 accuracy 98.15%]\n"
     ]
    },
    {
     "name": "stdout",
     "output_type": "stream",
     "text": [
      "[INFO] Epoch 4/9\n",
      "--------------------\n"
     ]
    },
    {
     "name": "stderr",
     "output_type": "stream",
     "text": [
      "train: 100%|██████████| 110/110 [00:30<00:00,  3.65 batch/s, error 0.0832 accuracy 98.42%]\n",
      "valid: 100%|██████████| 13/13 [00:03<00:00,  3.44 batch/s, error 0.0925 accuracy 98.11%]\n"
     ]
    },
    {
     "name": "stdout",
     "output_type": "stream",
     "text": [
      "[INFO] Epoch 5/9\n",
      "--------------------\n"
     ]
    },
    {
     "name": "stderr",
     "output_type": "stream",
     "text": [
      "train: 100%|██████████| 110/110 [00:30<00:00,  3.65 batch/s, error 0.0778 accuracy 98.50%]\n",
      "valid: 100%|██████████| 13/13 [00:03<00:00,  3.47 batch/s, error 0.0875 accuracy 97.96%]\n"
     ]
    },
    {
     "name": "stdout",
     "output_type": "stream",
     "text": [
      "[INFO] Epoch 6/9\n",
      "--------------------\n"
     ]
    },
    {
     "name": "stderr",
     "output_type": "stream",
     "text": [
      "train: 100%|██████████| 110/110 [00:30<00:00,  3.60 batch/s, error 0.0721 accuracy 98.65%]\n",
      "valid: 100%|██████████| 13/13 [00:06<00:00,  1.96 batch/s, error 0.0776 accuracy 98.31%]\n"
     ]
    },
    {
     "name": "stdout",
     "output_type": "stream",
     "text": [
      "[INFO] Epoch 7/9\n",
      "--------------------\n"
     ]
    },
    {
     "name": "stderr",
     "output_type": "stream",
     "text": [
      "train: 100%|██████████| 110/110 [00:29<00:00,  3.71 batch/s, error 0.0644 accuracy 98.88%]\n",
      "valid: 100%|██████████| 13/13 [00:03<00:00,  3.57 batch/s, error 0.0721 accuracy 98.45%]\n"
     ]
    },
    {
     "name": "stdout",
     "output_type": "stream",
     "text": [
      "[INFO] Epoch 8/9\n",
      "--------------------\n"
     ]
    },
    {
     "name": "stderr",
     "output_type": "stream",
     "text": [
      "train: 100%|██████████| 110/110 [00:29<00:00,  3.75 batch/s, error 0.0602 accuracy 98.94%]\n",
      "valid: 100%|██████████| 13/13 [00:03<00:00,  3.66 batch/s, error 0.0707 accuracy 98.44%]\n"
     ]
    },
    {
     "name": "stdout",
     "output_type": "stream",
     "text": [
      "[INFO] Epoch 9/9\n",
      "--------------------\n"
     ]
    },
    {
     "name": "stderr",
     "output_type": "stream",
     "text": [
      "train: 100%|██████████| 110/110 [00:29<00:00,  3.76 batch/s, error 0.0586 accuracy 98.89%]\n",
      "valid: 100%|██████████| 13/13 [00:03<00:00,  3.63 batch/s, error 0.0667 accuracy 98.46%]\n"
     ]
    }
   ],
   "source": [
    "criterion = torch.nn.CrossEntropyLoss()\n",
    "\n",
    "if config['train']['opt'] == 'Adam':\n",
    "    opt = torch.optim.Adam(network.parameters(), lr=config['train']['lr'])\n",
    "elif config['train']['opt'] == 'SGD':\n",
    "    opt = torch.optim.SGD(network.parameters(), lr=config['train']['lr'])\n",
    "\n",
    "history = train(network, train_loader, valid_loader, criterion, opt, epochs=config['train']['epochs'], thresh=config['test']['threshold'])"
   ]
  },
  {
   "cell_type": "markdown",
   "metadata": {},
   "source": [
    "## Afisare curbe de invatare"
   ]
  },
  {
   "cell_type": "code",
   "execution_count": 349,
   "metadata": {},
   "outputs": [
    {
     "data": {
      "image/png": "[encoded data removed]",
      "text/plain": [
       "<Figure size 1080x360 with 2 Axes>"
      ]
     },
     "metadata": {
      "needs_background": "light"
     },
     "output_type": "display_data"
    }
   ],
   "source": [
    "def plot_acc_loss(result):\n",
    "    acc = result['acc']['train']\n",
    "    loss = result['loss']['train']\n",
    "    val_acc = result['acc']['valid']\n",
    "    val_loss = result['loss']['valid']\n",
    "    \n",
    "    plt.figure(figsize=(15, 5))\n",
    "    plt.subplot(121)\n",
    "    plt.plot(acc, label='Train')\n",
    "    plt.plot(val_acc, label='Validation')\n",
    "    plt.title('Accuracy', size=15)\n",
    "    plt.legend()\n",
    "    plt.grid(True)\n",
    "    plt.ylabel('Accuracy')\n",
    "    plt.xlabel('Epoch')\n",
    "    \n",
    "    plt.subplot(122)\n",
    "    plt.plot(loss, label='Train')\n",
    "    plt.plot(val_loss, label='Validation')\n",
    "    plt.title('Loss', size=15)\n",
    "    plt.legend()\n",
    "    plt.grid(True)\n",
    "    plt.ylabel('Loss')\n",
    "    plt.xlabel('Epoch')\n",
    "    \n",
    "    plt.show()\n",
    "    \n",
    "plot_acc_loss(history)"
   ]
  },
  {
   "cell_type": "markdown",
   "metadata": {},
   "source": [
    "## Testarea modelului antrenat"
   ]
  },
  {
   "cell_type": "markdown",
   "metadata": {},
   "source": [
    "In acelasi mod ca si la antrenare se creaza un generator pentru subsetul cu imagini de testare. De data asta `shuffle=False`"
   ]
  },
  {
   "cell_type": "code",
   "execution_count": 350,
   "metadata": {},
   "outputs": [],
   "source": [
    "def test(network, test_loader, thresh=0.5):\n",
    "    device = torch.device(\"cuda:0\" if torch.cuda.is_available() else \"cpu\")\n",
    "    print(f\"[INFO] Starting testing on device {device} ...\")\n",
    "\n",
    "    metric = torchmetrics.Accuracy()\n",
    "\n",
    "    network.eval()\n",
    "    with tqdm(desc='test', unit=' batch', total=len(test_loader.dataset)) as pbar:\n",
    "        for data in test_loader:\n",
    "            ins, tgs = data\n",
    "            ins = ins.to(device)\n",
    "            tgs = tgs.to('cpu')\n",
    "\n",
    "            output = network(ins)\n",
    "            current_predict = (F.softmax(output, dim=1)[:, 1] > thresh).float()\n",
    "\n",
    "            if 'cuda' in device.type:\n",
    "                current_predict = current_predict.cpu()\n",
    "                \n",
    "            acc = metric(current_predict, tgs.squeeze())\n",
    "            pbar.update(ins.shape[0])\n",
    "        \n",
    "        acc = metric.compute()\n",
    "        print(f'[INFO] Test accuracy is {acc*100:.2f} %')"
   ]
  },
  {
   "cell_type": "code",
   "execution_count": 351,
   "metadata": {},
   "outputs": [
    {
     "name": "stdout",
     "output_type": "stream",
     "text": [
      "# Test: 15\n",
      "[INFO] Starting testing on device cuda:0 ...\n"
     ]
    },
    {
     "name": "stderr",
     "output_type": "stream",
     "text": [
      "test: 100%|██████████| 15/15 [00:05<00:00,  2.82 batch/s]"
     ]
    },
    {
     "name": "stdout",
     "output_type": "stream",
     "text": [
      "[INFO] Test accuracy is 98.83 %\n"
     ]
    },
    {
     "name": "stderr",
     "output_type": "stream",
     "text": [
      "\n"
     ]
    }
   ],
   "source": [
    "test_df = dataset_df.loc[dataset_df[\"subset\"] == \"test\", :]\n",
    "test_ds = LungSegDataset(test_df, img_size=config[\"data\"][\"img_size\"])\n",
    "test_loader = torch.utils.data.DataLoader(test_ds, batch_size=config[\"train\"][\"bs\"], shuffle=False)\n",
    "\n",
    "print(f\"# Test: {len(test_ds)}\")\n",
    "\n",
    "del network # avoid CUDA OUT OF MEMORY ERROR\n",
    "network = torch.load('my_model.pth')\n",
    "test(network, test_loader, thresh=config['test']['threshold'])"
   ]
  },
  {
   "cell_type": "markdown",
   "metadata": {},
   "source": [
    "### Vizualizare predictii"
   ]
  },
  {
   "cell_type": "code",
   "execution_count": 352,
   "metadata": {},
   "outputs": [
    {
     "data": {
      "text/plain": [
       "torch.Size([8, 2, 128, 128])"
      ]
     },
     "execution_count": 352,
     "metadata": {},
     "output_type": "execute_result"
    }
   ],
   "source": [
    "x, y = next(iter(test_loader))\n",
    "network.eval()\n",
    "y_pred = network(x.to(device='cuda'))\n",
    "y_pred.shape"
   ]
  },
  {
   "cell_type": "code",
   "execution_count": 353,
   "metadata": {},
   "outputs": [
    {
     "data": {
      "image/png": "[encoded data removed]",
      "text/plain": [
       "<Figure size 720x720 with 12 Axes>"
      ]
     },
     "metadata": {
      "needs_background": "light"
     },
     "output_type": "display_data"
    }
   ],
   "source": [
    "nr_exs = 4 # nr de exemple de afisat\n",
    "fig, axs = plt.subplots(nr_exs, 3, figsize=(10, 10))\n",
    "for i, (img, gt, pred) in enumerate(zip(x[:nr_exs], y[:nr_exs], y_pred[:nr_exs])):\n",
    "    axs[i][0].axis('off')\n",
    "    axs[i][0].set_title('Input')\n",
    "    axs[i][0].imshow(img[0], cmap='gray')\n",
    "\n",
    "    axs[i][1].axis('off')\n",
    "    axs[i][1].set_title('Ground truth')\n",
    "    axs[i][1].imshow(gt[0], cmap='gray')\n",
    "\n",
    "    # print(pred.shape)\n",
    "    pred = F.softmax(pred, dim=0)[1].detach().cpu().numpy()\n",
    "    # print(pred.shape, pred.min(), pred.max())\n",
    "    pred[pred > config['test']['threshold']] = 1\n",
    "    pred[pred <= config['test']['threshold']] = 0\n",
    "    pred = pred.astype(np.uint8)\n",
    "\n",
    "    axs[i][2].axis('off')\n",
    "    axs[i][2].set_title('Prediction')\n",
    "    axs[i][2].imshow(pred, cmap='gray')"
   ]
  },
  {
   "cell_type": "code",
   "execution_count": null,
   "metadata": {},
   "outputs": [],
   "source": []
  }
 ],
 "metadata": {
  "interpreter": {
   "hash": "958115e85426b162e6c798c923391859631ce443cd381c12b5943f369314b6c1"
  },
  "kernelspec": {
   "display_name": "Python 3.7.10 64-bit ('work_p37': conda)",
   "name": "python3"
  },
  "language_info": {
   "codemirror_mode": {
    "name": "ipython",
    "version": 3
   },
   "file_extension": ".py",
   "mimetype": "text/x-python",
   "name": "python",
   "nbconvert_exporter": "python",
   "pygments_lexer": "ipython3",
   "version": "3.9.7"
  },
  "orig_nbformat": 4
 },
 "nbformat": 4,
 "nbformat_minor": 2
}
